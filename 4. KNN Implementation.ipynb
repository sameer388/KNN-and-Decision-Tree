{
 "cells": [
  {
   "cell_type": "code",
   "execution_count": 1,
   "id": "2a34ccba",
   "metadata": {},
   "outputs": [],
   "source": [
    "from sklearn import datasets\n",
    "from sklearn.neighbors import KNeighborsClassifier\n",
    "## for getting the no of counter in an array\n",
    "from collections import Counter\n",
    "from sklearn.model_selection import train_test_split\n",
    "## for getting the accuracy\n",
    "from sklearn.metrics import accuracy_score"
   ]
  },
  {
   "cell_type": "code",
   "execution_count": 2,
   "id": "0602bc66",
   "metadata": {},
   "outputs": [],
   "source": [
    "cancer = datasets.load_breast_cancer()\n",
    "x_train,x_test,y_train,y_test = train_test_split(cancer.data,cancer.target,random_state = 0,test_size = 0.2)"
   ]
  },
  {
   "cell_type": "code",
   "execution_count": 3,
   "id": "e5603ddf",
   "metadata": {},
   "outputs": [
    {
     "data": {
      "text/plain": [
       "KNeighborsClassifier(n_neighbors=7)"
      ]
     },
     "execution_count": 3,
     "metadata": {},
     "output_type": "execute_result"
    }
   ],
   "source": [
    "knn = KNeighborsClassifier(n_neighbors = 7)\n",
    "## we use here k = 7 because for this we get maximum score\n",
    "knn.fit(x_train,y_train)"
   ]
  },
  {
   "cell_type": "code",
   "execution_count": 4,
   "id": "e1400917",
   "metadata": {},
   "outputs": [
    {
     "data": {
      "text/plain": [
       "0.9473684210526315"
      ]
     },
     "execution_count": 4,
     "metadata": {},
     "output_type": "execute_result"
    }
   ],
   "source": [
    "knn.score(x_test,y_test)"
   ]
  },
  {
   "cell_type": "code",
   "execution_count": 5,
   "id": "224d0f20",
   "metadata": {},
   "outputs": [],
   "source": [
    "## this function take one row of testing data and then calculate it's distance with\n",
    "## all the class(all the row of x_train), then we pick up the k classes which has least\n",
    "## distance from x_row and then we calculate it's class and find the majority of the \n",
    "## class in target array and then pickup the most_common among them(majority)\n",
    "def predict_one(x_train,y_train,x_row,k):\n",
    "    #distances store the distance of every row of x_train with x_row\n",
    "    distances = []\n",
    "    ## this stores the class of k nearest neighbors\n",
    "    target = []\n",
    "    for i in range(len(x_train)):\n",
    "        ## we are calculating the euclidean distance\n",
    "        dist = ((x_train[i,:] - x_row)**2).sum()\n",
    "        ## put the distance with it's indices\n",
    "        distances.append([dist,i])\n",
    "    ## sort the distances array according to it's value\n",
    "    distances = sorted(distances)\n",
    "    ## find the k nearest neighbors\n",
    "    for i in range(k):\n",
    "        classes = y_train[distances[i][1]]\n",
    "        target.append(classes)\n",
    "    ## find the most occuring class\n",
    "    return Counter(target).most_common(1)[0][0]"
   ]
  },
  {
   "cell_type": "code",
   "execution_count": 6,
   "id": "9069ae44",
   "metadata": {},
   "outputs": [],
   "source": [
    "## this fucntion store the y_pred,it sends the every row of x_test one by one\n",
    "def predict(x_train,y_train,x_test,k):\n",
    "    pred = []\n",
    "    for x_row in x_test:\n",
    "        pred.append(predict_one(x_train,y_train,x_row,k))\n",
    "    return pred"
   ]
  },
  {
   "cell_type": "code",
   "execution_count": 7,
   "id": "0428a88e",
   "metadata": {},
   "outputs": [
    {
     "data": {
      "text/plain": [
       "0.9473684210526315"
      ]
     },
     "execution_count": 7,
     "metadata": {},
     "output_type": "execute_result"
    }
   ],
   "source": [
    "y_pred = predict(x_train,y_train,x_test,7)\n",
    "accuracy_score(y_test,y_pred)\n",
    "## so our implementation is also give the same accuracy what we get previously because \n",
    "## we use the by default value of k which is 7 for our algorithm"
   ]
  },
  {
   "cell_type": "code",
   "execution_count": 8,
   "id": "fb32d971",
   "metadata": {},
   "outputs": [
    {
     "name": "stdout",
     "output_type": "stream",
     "text": [
      "Counter({1: 6, 2: 3, 0: 2, 3: 1})\n",
      "[(1, 6), (2, 3)]\n",
      "[(1, 6)]\n",
      "(1, 6)\n",
      "1\n"
     ]
    }
   ],
   "source": [
    "## Let's see the Counter module\n",
    "a = [1,1,1,1,1,0,0,1,2,3,2,2]\n",
    "print(Counter(a)) ## it's gives the value how many time one value is occuring\n",
    "print(Counter(a).most_common(2)) ## it's give two most common occuring part\n",
    "print(Counter(a).most_common(1)) ## it's give most common occuring\n",
    "print(Counter(a).most_common(1)[0]) ## it's gives that tupple\n",
    "print(Counter(a).most_common(1)[0][0]) ## give that no in the tupple\n",
    "## so from this we can conclude that one is occuring most no of times"
   ]
  }
 ],
 "metadata": {
  "kernelspec": {
   "display_name": "Python 3",
   "language": "python",
   "name": "python3"
  },
  "language_info": {
   "codemirror_mode": {
    "name": "ipython",
    "version": 3
   },
   "file_extension": ".py",
   "mimetype": "text/x-python",
   "name": "python",
   "nbconvert_exporter": "python",
   "pygments_lexer": "ipython3",
   "version": "3.8.8"
  }
 },
 "nbformat": 4,
 "nbformat_minor": 5
}
